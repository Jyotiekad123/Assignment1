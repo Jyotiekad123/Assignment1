{
 "cells": [
  {
   "cell_type": "markdown",
   "id": "impressed-oxygen",
   "metadata": {},
   "source": [
    "# Assignment 1st"
   ]
  },
  {
   "cell_type": "markdown",
   "id": "timely-morocco",
   "metadata": {},
   "source": [
    "# question:-1)"
   ]
  },
  {
   "cell_type": "code",
   "execution_count": 1,
   "id": "suitable-juvenile",
   "metadata": {},
   "outputs": [
    {
     "name": "stdout",
     "output_type": "stream",
     "text": [
      "Enter the 1st number : 5\n",
      "Enter the 2nd number : 9\n",
      "Enter operation would you like to perform?\n",
      "Enter any of these char for specific operation +,-,*,/ :*\n",
      "5 * 9  :  45\n"
     ]
    }
   ],
   "source": [
    "num1 = int(input(\"Enter the 1st number : \"))\n",
    "num2 = int(input(\"Enter the 2nd number : \"))\n",
    "\n",
    "print(\"Enter operation would you like to perform?\")\n",
    "ch = input(\"Enter any of these char for specific operation +,-,*,/ :\")\n",
    "\n",
    "result = 0\n",
    "\n",
    "if ch== \"+\" :\n",
    "    result = num1 +num2\n",
    "    \n",
    "elif ch == \"-\" :\n",
    "    result = num1 - num2\n",
    "    \n",
    "elif ch == \"*\" :\n",
    "    result = num1 * num2\n",
    " \n",
    "elif ch == \"/\" :\n",
    "    result = num1 / num2\n",
    "    \n",
    "else :\n",
    "    print(\"Input character is not recognized!\")\n",
    "    \n",
    "print(num1,ch,num2,\" : \" ,result)    "
   ]
  },
  {
   "cell_type": "markdown",
   "id": "figured-railway",
   "metadata": {},
   "source": [
    "# question 2)"
   ]
  },
  {
   "cell_type": "code",
   "execution_count": 25,
   "id": "changing-business",
   "metadata": {},
   "outputs": [
    {
     "name": "stdout",
     "output_type": "stream",
     "text": [
      "Plz enter +ve integer:2\n",
      "plz enter Exponent value:5\n"
     ]
    }
   ],
   "source": [
    "number = int(input(\"Plz enter +ve integer:\"))\n",
    "exponent=int(input(\"plz enter Exponent value:\"))\n",
    "\n",
    "power = 1\n",
    "i = 1\n",
    "\n",
    "while(i<=exponent):\n",
    "    power = power * number\n",
    "    i=i+1 \n",
    "   "
   ]
  },
  {
   "cell_type": "code",
   "execution_count": 28,
   "id": "demanding-saskatchewan",
   "metadata": {},
   "outputs": [
    {
     "name": "stdout",
     "output_type": "stream",
     "text": [
      "The Resultof2 Power5 = 32\n"
     ]
    }
   ],
   "source": [
    " print(\"The Resultof{0} Power{1} = {2}\".format(number,exponent,power)) "
   ]
  },
  {
   "cell_type": "code",
   "execution_count": null,
   "id": "requested-salvation",
   "metadata": {},
   "outputs": [],
   "source": []
  },
  {
   "cell_type": "code",
   "execution_count": null,
   "id": "substantial-kruger",
   "metadata": {},
   "outputs": [],
   "source": []
  }
 ],
 "metadata": {
  "kernelspec": {
   "display_name": "Python 3",
   "language": "python",
   "name": "python3"
  },
  "language_info": {
   "codemirror_mode": {
    "name": "ipython",
    "version": 3
   },
   "file_extension": ".py",
   "mimetype": "text/x-python",
   "name": "python",
   "nbconvert_exporter": "python",
   "pygments_lexer": "ipython3",
   "version": "3.9.0"
  }
 },
 "nbformat": 4,
 "nbformat_minor": 5
}
